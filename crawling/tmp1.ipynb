{
 "cells": [
  {
   "cell_type": "code",
   "execution_count": 14,
   "id": "3f5ec563",
   "metadata": {},
   "outputs": [],
   "source": [
    "from selenium import webdriver\n",
    "from selenium.webdriver.chrome.service import Service as ChromeService\n",
    "from webdriver_manager.chrome import ChromeDriverManager\n",
    "\n",
    "from selenium.common.exceptions import NoSuchElementException\n",
    "\n",
    "from selenium.webdriver.common.by import By\n",
    "from selenium.webdriver.support.ui import WebDriverWait\n",
    "from selenium.webdriver.support import expected_conditions as EC"
   ]
  },
  {
   "cell_type": "code",
   "execution_count": 15,
   "id": "e1a2440e",
   "metadata": {},
   "outputs": [],
   "source": [
    "def wait_return_text (loc, driver):\n",
    "    try:\n",
    "        return WebDriverWait(driver, 1).until(EC.presence_of_element_located((By.CSS_SELECTOR, loc))).text\n",
    "    except:\n",
    "        return False\n",
    "\n",
    "\n",
    "def nextpage(driver):\n",
    "    try:\n",
    "        element = WebDriverWait(driver, 1).until(\n",
    "            EC.element_to_be_clickable((By.CSS_SELECTOR, \"#results > ul.sc-kGdDhL.kJFtWa > li:nth-child(12) > button > svg\"))\n",
    "        )\n",
    "        element.click()\n",
    "    except Exception as e:\n",
    "        return False\n",
    "\n",
    "def scroll_down_main(driver):\n",
    "    try:\n",
    "        element = WebDriverWait(driver, 1).until(\n",
    "                EC.presence_of_element_located((By.CSS_SELECTOR, \"#site-content > div:nth-child(2) > div\"))\n",
    "            )\n",
    "        driver.execute_script(\"arguments[0].scrollTop = arguments[0].scrollHeight;\", element)\n",
    "    except:\n",
    "        return False\n",
    "    \n",
    "def scroll_down_target(driver):\n",
    "    try:\n",
    "        element = WebDriverWait(driver, 1).until(\n",
    "                EC.presence_of_element_located((By.CSS_SELECTOR, \"#site-content\"))\n",
    "            )\n",
    "        driver.execute_script(\"arguments[0].scrollTop = arguments[0].scrollHeight;\", element)\n",
    "    except:\n",
    "        return False\n",
    "    "
   ]
  },
  {
   "cell_type": "code",
   "execution_count": 16,
   "id": "97e91f8e",
   "metadata": {},
   "outputs": [],
   "source": [
    "url2 = \"https://www.kaggle.com/datasets/blastchar/telco-customer-churn\"\n",
    "url_main = \"https://www.kaggle.com/search?q=Customer+Churn+in%3Adatasets\"\n",
    "driver = webdriver.Chrome(service=ChromeService(ChromeDriverManager().install()))\n",
    "driver.get(url_main)"
   ]
  },
  {
   "cell_type": "code",
   "execution_count": null,
   "id": "a758d53b",
   "metadata": {},
   "outputs": [],
   "source": [
    "df = []\n",
    "while 1:\n",
    "    i = 1\n",
    "    scroll_down_main(driver)\n",
    "    \n",
    "    while 1:\n",
    "        try:\n",
    "            WebDriverWait(driver, 2).until(EC.element_to_be_clickable((By.CSS_SELECTOR, f\"#results > ul.MuiList-root.km-list.css-1uzmcsd > li:nth-child({i}) > div > a > div > div.sc-bjhZkk.jWyUHl > div\"))).click()\n",
    "        except:\n",
    "            break\n",
    "        scroll_down_target(driver)\n",
    "\n",
    "        tmp_link = driver.current_url\n",
    "        name= wait_return_text(driver, \"#site-content > div:nth-child(2) > div > div.sc-iQQCXo.gSQcTP > div > div.sc-yVOhj.kmmEya > div.sc-jxyWrI.JAEoS.sc-hocAEa.kXCOub > div.sc-lcsTPt.givKIP > h1\")\n",
    "        columns = wait_return_text(driver, \"#site-content > div:nth-child(2) > div > div.sc-iQQCXo.gSQcTP > div > div.sc-iqroHm.kuxaKs > div.sc-kYuORB.jKlOrq > div > div > div.sc-eGrtvL.dXLXG > div > div.sc-fnWRuw.iQZdfc > div > div.sc-ftpwRR.jvLrRV > button > p\")\n",
    "        columns = columns.split(\" \")[2]\n",
    "        usability = wait_return_text(driver, \"#site-content > div:nth-child(2) > div > div.sc-iQQCXo.gSQcTP > div > div.sc-iqroHm.kuxaKs > div.sc-jckpuY.iNrxIt > div.sc-mXAHQ.duwXti > p:nth-child(2)\")\n",
    "        rows = wait_return_text(driver, \"#site-content > div:nth-child(2) > div > div.sc-iQQCXo.gSQcTP > div > div.sc-iqroHm.kuxaKs > div.sc-kYuORB.jKlOrq > div > div > div.sc-eGrtvL.dXLXG > div > div.sc-jMwPYW.loWIXM > div.sc-fmhVxb.dXviuO > tr > td:nth-child(1) > p\")\n",
    "        if not rows:\n",
    "            rows = wait_return_text(driver, \"body > div.MuiPopover-root.sc-eqEeFJ.zKzte.MuiModal-root.css-jp7szo > div.MuiPaper-root.MuiPaper-elevation.MuiPaper-rounded.MuiPaper-elevation8.MuiPopover-paper.sc-jlysaJ.dggIv.sc-jlysaJ.dggIv.css-1o8zd2e > div.sc-dfzsKZ.henvP > span > span:nth-child(6) > span\")\n",
    "        driver.back()\n",
    "        wait_return_text()\n",
    "        df.append([name, rows, columns, usability, tmp_link])\n",
    "    try:\n",
    "        nextpage(driver)\n",
    "    except:\n",
    "        break"
   ]
  },
  {
   "cell_type": "code",
   "execution_count": null,
   "id": "fb61e3b2",
   "metadata": {},
   "outputs": [],
   "source": [
    "import pandas as pd\n",
    "cols = [\"name\", \"rows\", \"cols\", \"ub\", \"link\"]\n",
    "datasets = pd.DataFrame(data = df, columns=cols)"
   ]
  }
 ],
 "metadata": {
  "kernelspec": {
   "display_name": "base",
   "language": "python",
   "name": "python3"
  },
  "language_info": {
   "codemirror_mode": {
    "name": "ipython",
    "version": 3
   },
   "file_extension": ".py",
   "mimetype": "text/x-python",
   "name": "python",
   "nbconvert_exporter": "python",
   "pygments_lexer": "ipython3",
   "version": "3.12.7"
  }
 },
 "nbformat": 4,
 "nbformat_minor": 5
}
