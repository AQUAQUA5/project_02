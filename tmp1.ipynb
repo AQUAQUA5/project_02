{
 "cells": [
  {
   "cell_type": "code",
   "execution_count": null,
   "id": "64474776",
   "metadata": {},
   "outputs": [],
   "source": [
    "from selenium import webdriver\n",
    "from selenium.webdriver.chrome.service import Service as ChromeService\n",
    "from webdriver_manager.chrome import ChromeDriverManager\n",
    "\n",
    "from selenium.common.exceptions import NoSuchElementException\n",
    "import requests\n",
    "import time\n",
    "\n",
    "from selenium.webdriver.common.by import By\n",
    "from selenium.webdriver.support.ui import WebDriverWait\n",
    "from selenium.webdriver.support import expected_conditions as EC"
   ]
  },
  {
   "cell_type": "code",
   "execution_count": null,
   "id": "ba8fa55c",
   "metadata": {},
   "outputs": [],
   "source": []
  },
  {
   "cell_type": "code",
   "execution_count": null,
   "id": "d1b0bea6",
   "metadata": {},
   "outputs": [],
   "source": [
    "driver = webdriver.Chrome(service=ChromeService(ChromeDriverManager().install()))"
   ]
  },
  {
   "cell_type": "code",
   "execution_count": null,
   "id": "55bbab65",
   "metadata": {},
   "outputs": [],
   "source": [
    "url = \"https://www.kaggle.com/search?q=Customer+Churn+in%3Adatasets\""
   ]
  },
  {
   "cell_type": "code",
   "execution_count": null,
   "id": "0d1a9b07",
   "metadata": {},
   "outputs": [],
   "source": [
    "url2 = \"https://www.kaggle.com/datasets/blastchar/telco-customer-churn\"\n",
    "driver.get(url2)"
   ]
  },
  {
   "cell_type": "code",
   "execution_count": null,
   "id": "286e4c32",
   "metadata": {},
   "outputs": [],
   "source": [
    "#site-content > div:nth-child(2) > div > div.sc-iQQCXo.gSQcTP > div > div.sc-iqroHm.kuxaKs > div.sc-jckpuY.iNrxIt > div.sc-mXAHQ.duwXti > p:nth-child(2)"
   ]
  },
  {
   "cell_type": "code",
   "execution_count": null,
   "id": "19b34376",
   "metadata": {},
   "outputs": [],
   "source": [
    "#name = driver.find_element(By.CSS_SELECTOR, \"\")\n",
    "li = []\n",
    "name = driver.find_element(By.CSS_SELECTOR, \"#site-content > div:nth-child(2) > div > div.sc-iQQCXo.gSQcTP > div > div.sc-yVOhj.kmmEya > div.sc-jxyWrI.JAEoS.sc-hocAEa.kXCOub > div.sc-lcsTPt.givKIP > h1\").text\n",
    "usability = driver.find_element(By.CSS_SELECTOR, \"#site-content > div:nth-child(2) > div > div.sc-iQQCXo.gSQcTP > div > div.sc-iqroHm.kuxaKs > div.sc-jckpuY.iNrxIt > div.sc-mXAHQ.duwXti > p:nth-child(2)\").text\n",
    "tmp_url = driver.current_url\n",
    "columns = driver.find_element(By.CSS_SELECTOR, \"#site-content > div:nth-child(2) > div > div.sc-iQQCXo.gSQcTP > div > div.sc-iqroHm.kuxaKs > div.sc-kYuORB.jKlOrq > div > div > div.sc-eGrtvL.dXLXG > div > div.sc-fnWRuw.iQZdfc > div > div.sc-ftpwRR.jvLrRV > button > p\").text\n",
    "columns = columns.split(\" \")[2]"
   ]
  },
  {
   "cell_type": "code",
   "execution_count": null,
   "id": "18abc893",
   "metadata": {},
   "outputs": [],
   "source": [
    "columns"
   ]
  },
  {
   "cell_type": "code",
   "execution_count": null,
   "id": "fc76597c",
   "metadata": {},
   "outputs": [],
   "source": [
    "import pandas as pd\n",
    "tables = pd.read_html(\"https://www.kaggle.com/datasets/blastchar/telco-customer-churn/data\")"
   ]
  },
  {
   "cell_type": "code",
   "execution_count": null,
   "id": "6bee93a3",
   "metadata": {},
   "outputs": [],
   "source": [
    "pip install html5lib"
   ]
  },
  {
   "cell_type": "code",
   "execution_count": 34,
   "id": "2cf5eb01",
   "metadata": {},
   "outputs": [],
   "source": [
    "cols = [\"name\", \"rows\", \"cols\", \"uv\", \"link\"]\n",
    "datasets = pd.DataFrame(columns=cols)"
   ]
  },
  {
   "cell_type": "code",
   "execution_count": null,
   "id": "2c76f87d",
   "metadata": {},
   "outputs": [],
   "source": [
    "def wait_return_text (loc, driver):\n",
    "    try:\n",
    "        return WebDriverWait(driver, 1).until(EC.presence_of_element_located((By.CSS_SELECTOR, loc))).text\n",
    "    except:\n",
    "        return \"\"\n",
    "\n",
    "\n",
    "def nextpage(driver):\n",
    "    try:\n",
    "        element = WebDriverWait(driver, 2).until(\n",
    "            EC.element_to_be_clickable((By.CSS_SELECTOR, \"#results > ul.sc-kGdDhL.kJFtWa > li:nth-child(12) > button > svg\"))\n",
    "        )\n",
    "        element.click()\n",
    "    except Exception as e:\n",
    "        print(\"다음 페이지 버튼을 찾거나 클릭하는 데 실패했습니다:\", e)\n"
   ]
  },
  {
   "cell_type": "code",
   "execution_count": null,
   "id": "d646dbd3",
   "metadata": {},
   "outputs": [],
   "source": [
    "while 1:\n",
    "    i = 1\n",
    "    while 1:\n",
    "        try:\n",
    "            driver.find_element(By.CSS_SELECTOR, f\"#results > ul.MuiList-root.km-list.css-1uzmcsd > li:nth-child({i}) > div > a > div > div.sc-bjhZkk.jWyUHl > div\").click()\n",
    "        except:\n",
    "            break\n",
    "        tmp_link = driver.current_url\n",
    "        \n",
    "        driver.back()\n",
    "        wait_return_text()\n",
    "    nextpage(driver)"
   ]
  },
  {
   "cell_type": "code",
   "execution_count": null,
   "id": "c2ffb3d7",
   "metadata": {},
   "outputs": [],
   "source": [
    "<svg class=\"MuiSvgIcon-root MuiSvgIcon-fontSizeMedium MuiPaginationItem-icon css-lrb33l\" focusable=\"false\" aria-hidden=\"true\" viewBox=\"0 0 24 24\" data-testid=\"NavigateNextIcon\"><path d=\"M10 6L8.59 7.41 13.17 12l-4.58 4.59L10 18l6-6z\"></path></svg>"
   ]
  },
  {
   "cell_type": "code",
   "execution_count": null,
   "id": "3905fc69",
   "metadata": {},
   "outputs": [],
   "source": [
    "#results\n",
    "#results > ul.MuiList-root.km-list.css-1uzmcsd > li:nth-child(1) > div > a > div > div.sc-bjhZkk.jWyUHl > div\n",
    "#results > ul.MuiList-root.km-list.css-1uzmcsd > li:nth-child(2) > div > a > div > div.sc-bjhZkk.jWyUHl > div"
   ]
  },
  {
   "cell_type": "code",
   "execution_count": null,
   "id": "6582c3bf",
   "metadata": {},
   "outputs": [],
   "source": []
  }
 ],
 "metadata": {
  "kernelspec": {
   "display_name": "base",
   "language": "python",
   "name": "python3"
  },
  "language_info": {
   "codemirror_mode": {
    "name": "ipython",
    "version": 3
   },
   "file_extension": ".py",
   "mimetype": "text/x-python",
   "name": "python",
   "nbconvert_exporter": "python",
   "pygments_lexer": "ipython3",
   "version": "3.12.7"
  }
 },
 "nbformat": 4,
 "nbformat_minor": 5
}
